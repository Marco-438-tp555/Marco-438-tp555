{
 "cells": [
  {
   "cell_type": "code",
   "execution_count": 1,
   "metadata": {},
   "outputs": [],
   "source": [
    "# Reference: https://jakevdp.github.io/PythonDataScienceHandbook/05.05-naive-bayes.html\n",
    "\n",
    "# Import all necessary libraries.\n",
    "from sklearn.naive_bayes import MultinomialNB\n",
    "from sklearn.feature_extraction.text import CountVectorizer\n",
    "from sklearn.metrics import confusion_matrix\n",
    "from sklearn.naive_bayes import BernoulliNB\n",
    "from sklearn.model_selection import train_test_split\n",
    "from sklearn import metrics\n",
    "from sklearn.metrics import accuracy_score, roc_curve, auc\n",
    "import matplotlib.pyplot as plt\n",
    "import seaborn as sns\n",
    "import pandas as pd\n",
    "import numpy as np\n"
   ]
  },
  {
   "cell_type": "markdown",
   "metadata": {},
   "source": [
    "## Multinomial & Bernoulli Classification"
   ]
  },
  {
   "cell_type": "code",
   "execution_count": 2,
   "metadata": {},
   "outputs": [],
   "source": [
    "# Features to training the classificator\n",
    "X_train = np.array(['Chinese Beijing Chinese', 'Chinese Chinese Shanghai', 'Chinese Macao', 'Tokyo Japan Chinese'])\n",
    "\n",
    "# Labels to training the classificator\n",
    "y_train = np.array(['China','China','China','Not China'])\n",
    "\n",
    "# Test of the classificator\n",
    "X_test = np.array(['Chinese Chinese Chinese Tokyo Japan'])"
   ]
  },
  {
   "cell_type": "markdown",
   "metadata": {},
   "source": [
    "## BernoulliNB Distribution"
   ]
  },
  {
   "cell_type": "code",
   "execution_count": 3,
   "metadata": {},
   "outputs": [],
   "source": [
    "# Convert a collection of text documents to a matrix of token counts.\n",
    "vect = CountVectorizer(binary=True)\n",
    "\n",
    "# Fit and transform X_train into x_train_dtm (document-term matrices - dtm).\n",
    "X_train_dtm = vect.fit_transform(X_train)"
   ]
  },
  {
   "cell_type": "code",
   "execution_count": 4,
   "metadata": {},
   "outputs": [
    {
     "name": "stdout",
     "output_type": "stream",
     "text": [
      "['beijing', 'chinese', 'japan', 'macao', 'shanghai', 'tokyo']\n",
      "[[1 1 0 0 0 0]\n",
      " [0 1 0 0 1 0]\n",
      " [0 1 0 1 0 0]\n",
      " [0 1 1 0 0 1]]\n"
     ]
    }
   ],
   "source": [
    "# Counting Matrix\n",
    "print(vect.get_feature_names())\n",
    "print(X_train_dtm.toarray())"
   ]
  },
  {
   "cell_type": "code",
   "execution_count": 5,
   "metadata": {},
   "outputs": [],
   "source": [
    "# Instantiate a Bernoulli Naive Bayes model.\n",
    "model = BernoulliNB(binarize=None)"
   ]
  },
  {
   "cell_type": "code",
   "execution_count": 6,
   "metadata": {},
   "outputs": [
    {
     "data": {
      "text/plain": [
       "BernoulliNB(alpha=1.0, binarize=None, class_prior=None, fit_prior=True)"
      ]
     },
     "execution_count": 6,
     "metadata": {},
     "output_type": "execute_result"
    }
   ],
   "source": [
    "# train the model using X_train_dtm\n",
    "model.fit(X_train_dtm, y_train)"
   ]
  },
  {
   "cell_type": "code",
   "execution_count": 7,
   "metadata": {},
   "outputs": [
    {
     "name": "stdout",
     "output_type": "stream",
     "text": [
      "[[0 1 1 0 0 1]]\n"
     ]
    }
   ],
   "source": [
    "# Transform document into document-term matrix.\n",
    "X_test_dtm = vect.transform(X_test)\n",
    "\n",
    "# Perform classification on an array of test vectors X_test_dtm.\n",
    "y_pred_class = model.predict(X_test_dtm)\n",
    "\n",
    "# Multinomial Counter Vector\n",
    "print(X_test_dtm.toarray())"
   ]
  },
  {
   "cell_type": "code",
   "execution_count": 8,
   "metadata": {},
   "outputs": [
    {
     "name": "stdout",
     "output_type": "stream",
     "text": [
      "['Not China']\n"
     ]
    }
   ],
   "source": [
    "# Classification Result\n",
    "print(y_pred_class)"
   ]
  },
  {
   "cell_type": "markdown",
   "metadata": {},
   "source": [
    "## Bernoulli - Predict Class of Mesage (%)"
   ]
  },
  {
   "cell_type": "code",
   "execution_count": 9,
   "metadata": {},
   "outputs": [
    {
     "name": "stdout",
     "output_type": "stream",
     "text": [
      "[[19.10667888 80.89332112]] %\n"
     ]
    }
   ],
   "source": [
    "print(((model.predict_proba(X_test_dtm))*100),'%')"
   ]
  },
  {
   "cell_type": "markdown",
   "metadata": {},
   "source": [
    "## Results\n",
    "Há um vetor de teste que é igual a um vetor de treinamento da classe 'Not China' o que faz com que a o resultado seja classificado desta forma."
   ]
  },
  {
   "cell_type": "markdown",
   "metadata": {},
   "source": [
    "## MultinomialNB Distribution"
   ]
  },
  {
   "cell_type": "code",
   "execution_count": 10,
   "metadata": {},
   "outputs": [],
   "source": [
    "# Features to training the classificator\n",
    "X_train = np.array(['Chinese Beijing Chinese',\n",
    "                   'Chinese Chinese Shanghai',\n",
    "                   'Chinese Macao',\n",
    "                   'Tokyo Japan Chinese'])\n",
    "\n",
    "# Labels to training the classificator\n",
    "y_train = np.array(['China','China','China','Not China'])\n",
    "\n",
    "# Test of the classificator\n",
    "X_test = np.array(['Chinese Chinese Chinese Tokyo Japan'])"
   ]
  },
  {
   "cell_type": "code",
   "execution_count": 11,
   "metadata": {},
   "outputs": [],
   "source": [
    "# Instantiate a CountVectorizer object.\n",
    "vect = CountVectorizer()"
   ]
  },
  {
   "cell_type": "code",
   "execution_count": 12,
   "metadata": {},
   "outputs": [
    {
     "name": "stdout",
     "output_type": "stream",
     "text": [
      "['beijing', 'chinese', 'japan', 'macao', 'shanghai', 'tokyo']\n",
      "[[1 2 0 0 0 0]\n",
      " [0 2 0 0 1 0]\n",
      " [0 1 0 1 0 0]\n",
      " [0 1 1 0 0 1]]\n"
     ]
    }
   ],
   "source": [
    "# Fit and transform X_train into x_train_dtm (document-term matrices - dtm).\n",
    "X_train_dtm = vect.fit_transform(X_train)\n",
    "\n",
    "print(vect.get_feature_names())\n",
    "print(X_train_dtm.toarray())"
   ]
  },
  {
   "cell_type": "code",
   "execution_count": 13,
   "metadata": {},
   "outputs": [],
   "source": [
    "# Instantiate a Multinomial Naive Bayes model.\n",
    "model = MultinomialNB()"
   ]
  },
  {
   "cell_type": "code",
   "execution_count": 14,
   "metadata": {},
   "outputs": [
    {
     "data": {
      "text/plain": [
       "MultinomialNB(alpha=1.0, class_prior=None, fit_prior=True)"
      ]
     },
     "execution_count": 14,
     "metadata": {},
     "output_type": "execute_result"
    }
   ],
   "source": [
    "# train the model using X_train_dtm\n",
    "model.fit(X_train_dtm, y_train)"
   ]
  },
  {
   "cell_type": "code",
   "execution_count": 15,
   "metadata": {},
   "outputs": [
    {
     "name": "stdout",
     "output_type": "stream",
     "text": [
      "[[0 3 1 0 0 1]]\n"
     ]
    }
   ],
   "source": [
    "# Transform X_test into X_test_dtm.\n",
    "X_test_dtm = vect.transform(X_test)\n",
    "\n",
    "# Perform classification on an array of test vectors X_test_dtm.\n",
    "y_pred_class = model.predict(X_test_dtm)\n",
    "\n",
    "# Bernoulli Counter Vector\n",
    "print(X_test_dtm.toarray())"
   ]
  },
  {
   "cell_type": "code",
   "execution_count": 16,
   "metadata": {},
   "outputs": [
    {
     "name": "stdout",
     "output_type": "stream",
     "text": [
      "['China']\n"
     ]
    }
   ],
   "source": [
    "# Classification Result\n",
    "print(y_pred_class)"
   ]
  },
  {
   "cell_type": "markdown",
   "metadata": {},
   "source": [
    "## Multinomial - Predict Class of Mesage (%)"
   ]
  },
  {
   "cell_type": "code",
   "execution_count": 17,
   "metadata": {},
   "outputs": [
    {
     "name": "stdout",
     "output_type": "stream",
     "text": [
      "[[68.97586118 31.02413882]] %\n"
     ]
    }
   ],
   "source": [
    "print(((model.predict_proba(X_test_dtm))*100),'%')"
   ]
  },
  {
   "cell_type": "markdown",
   "metadata": {},
   "source": [
    "## Results\n",
    "O vetor de teste para indicador positivo para a feature 'chinese' ocorre três vezes, sendo assim o peso é maior do que as ocorrências negativas das features 'japan' e 'tokyo'."
   ]
  },
  {
   "cell_type": "markdown",
   "metadata": {},
   "source": [
    "## Calculation of Probabilities - Bayes Theorem\n",
    "\n",
    "Classes = 2 => China and Not China\n",
    "Features = 6 => Beijing, Chinese, Japan, Macao, Shanhai, Tokyo\n",
    "\n",
    "## Conditional Probabilities Calculation:\n",
    "\n",
    "P(China|[Chinese, Chinese, Chinese, Tokyo, Japan]) => P(China|X)=PCHN_X\n",
    "\n",
    "P(Chinese|China)=PCHN_C\n",
    "\n",
    "P(Tokyo|China)=PTKY_C \n",
    "\n",
    "P(Japan|Chnia)=PJPN_C\n",
    "\n",
    "P(China)=PC\n",
    "\n",
    "P(Not China|[Chinese, Chinese, Chinese, Tokyo, Japan]) => P(Not China|X)=PNCHN_X\n",
    "\n",
    "P(Chinese|Not China)=PCHN_NC \n",
    "\n",
    "P(Tokyo|Not China)=PTKY_NC\n",
    "\n",
    "P(Japan|Not China)=PJPN_NC\n",
    "\n",
    "P(Not China)=PNC\n"
   ]
  },
  {
   "cell_type": "code",
   "execution_count": 18,
   "metadata": {},
   "outputs": [
    {
     "name": "stdout",
     "output_type": "stream",
     "text": [
      "PCHN_X: 11.111111111111112 %\n"
     ]
    }
   ],
   "source": [
    "PCHN_C = (3+1)/(4+6)\n",
    "PTKY_C = (0+1)/(4+6)\n",
    "PJPN_C = (0+1)/(4+6)\n",
    "PCHN = 3/5\n",
    "PTKY = 1/5\n",
    "PJPN = 1/5\n",
    "PC = 4/6\n",
    "\n",
    "print('PCHN_X:', (PCHN_C*PTKY_C*PJPN_C*PC)/(PCHN*PTKY*PJPN)*100,'%')"
   ]
  },
  {
   "cell_type": "code",
   "execution_count": 19,
   "metadata": {},
   "outputs": [
    {
     "name": "stdout",
     "output_type": "stream",
     "text": [
      "PNCHN_X: 10.850694444444443 %\n"
     ]
    }
   ],
   "source": [
    "PCHN_NC = (0+1)/(2+6)\n",
    "PTKY_NC = (1+1)/(2+6)\n",
    "PJPN_NC = (1+1)/(2+6)\n",
    "PNC = 2/6\n",
    "\n",
    "print('PNCHN_X:', (PCHN_NC*PTKY_NC*PJPN_NC*PNC)/(PCHN*PTKY*PJPN)*100,'%')"
   ]
  },
  {
   "cell_type": "code",
   "execution_count": null,
   "metadata": {},
   "outputs": [],
   "source": []
  }
 ],
 "metadata": {
  "kernelspec": {
   "display_name": "Python 3",
   "language": "python",
   "name": "python3"
  },
  "language_info": {
   "codemirror_mode": {
    "name": "ipython",
    "version": 3
   },
   "file_extension": ".py",
   "mimetype": "text/x-python",
   "name": "python",
   "nbconvert_exporter": "python",
   "pygments_lexer": "ipython3",
   "version": "3.7.6"
  }
 },
 "nbformat": 4,
 "nbformat_minor": 4
}
