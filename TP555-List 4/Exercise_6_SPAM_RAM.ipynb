{
 "cells": [
  {
   "cell_type": "code",
   "execution_count": 1,
   "metadata": {},
   "outputs": [],
   "source": [
    "# Reference: https://www.ritchieng.com/machine-learning-multinomial-naive-bayes-vectorization/\n",
    "\n",
    "# Import all necessary libraries.\n",
    "import pandas as pd\n",
    "import numpy as np\n",
    "from sklearn.naive_bayes import BernoulliNB\n",
    "from sklearn.feature_extraction.text import CountVectorizer\n",
    "from sklearn.model_selection import train_test_split\n",
    "from sklearn import metrics\n",
    "from sklearn.metrics import confusion_matrix\n",
    "from sklearn.metrics import accuracy_score, roc_curve, auc\n",
    "import seaborn as sns\n",
    "import matplotlib.pyplot as plt"
   ]
  },
  {
   "cell_type": "markdown",
   "metadata": {},
   "source": [
    "## Mesage Classification -  SPAN or RAM"
   ]
  },
  {
   "cell_type": "code",
   "execution_count": 2,
   "metadata": {},
   "outputs": [],
   "source": [
    "#Features to training the classificator\n",
    "X_train = np.array(['free great offer if you join, a great offer for free!',\n",
    "          'great offer for free delivery',\n",
    "          'uber is promoting a great offer for free',\n",
    "          'try uber for free for your 1st ride',\n",
    "          'earn your uber 10 credit for free by applying for the uber visa credit card',\n",
    "          'uber receipt'])\n",
    "\n",
    "#Labels to training the classificator\n",
    "y_train = np.array(['spam','spam','spam','ham','ham','ham'])\n",
    "\n",
    "#Training of the classificator\n",
    "X_test = np.array(['Moonnight Trial', 'Limited offer: Free & Great Deal'])"
   ]
  },
  {
   "cell_type": "code",
   "execution_count": 3,
   "metadata": {},
   "outputs": [],
   "source": [
    "# Convert a collection of text documents into a matrix of token counts.\n",
    "vect = CountVectorizer(binary=True)\n",
    "# Fit and transform X_train into x_train_dtm (document-term matrices - dtm).\n",
    "X_train_dtm = vect.fit_transform(X_train)"
   ]
  },
  {
   "cell_type": "code",
   "execution_count": 4,
   "metadata": {},
   "outputs": [],
   "source": [
    "# Instantiate a Bernoulli Naive Bayes model.\n",
    "model = BernoulliNB(binarize=None)"
   ]
  },
  {
   "cell_type": "code",
   "execution_count": 5,
   "metadata": {},
   "outputs": [
    {
     "data": {
      "text/plain": [
       "BernoulliNB(alpha=1.0, binarize=None, class_prior=None, fit_prior=True)"
      ]
     },
     "execution_count": 5,
     "metadata": {},
     "output_type": "execute_result"
    }
   ],
   "source": [
    "# Train the MultinomialNB model.\n",
    "model.fit(X_train_dtm, y_train)"
   ]
  },
  {
   "cell_type": "code",
   "execution_count": 6,
   "metadata": {},
   "outputs": [],
   "source": [
    "# Transform document into document-term matrix.\n",
    "X_test_dtm = vect.transform(X_test)\n",
    "# Perform classification on an array of test vectors X_test_dtm.\n",
    "y_pred_class = model.predict(X_test_dtm)"
   ]
  },
  {
   "cell_type": "code",
   "execution_count": 7,
   "metadata": {},
   "outputs": [
    {
     "name": "stdout",
     "output_type": "stream",
     "text": [
      "['ham' 'spam']\n"
     ]
    }
   ],
   "source": [
    "print(y_pred_class)"
   ]
  },
  {
   "cell_type": "markdown",
   "metadata": {},
   "source": [
    "## Predict Class of Mesage (%)"
   ]
  },
  {
   "cell_type": "code",
   "execution_count": 8,
   "metadata": {},
   "outputs": [
    {
     "name": "stdout",
     "output_type": "stream",
     "text": [
      "[[65.49865229 34.50134771]\n",
      " [ 0.27732023 99.72267977]] %\n"
     ]
    }
   ],
   "source": [
    "print(((model.predict_proba(X_test_dtm))*100),'%')"
   ]
  }
 ],
 "metadata": {
  "kernelspec": {
   "display_name": "Python 3",
   "language": "python",
   "name": "python3"
  },
  "language_info": {
   "codemirror_mode": {
    "name": "ipython",
    "version": 3
   },
   "file_extension": ".py",
   "mimetype": "text/x-python",
   "name": "python",
   "nbconvert_exporter": "python",
   "pygments_lexer": "ipython3",
   "version": "3.7.6"
  }
 },
 "nbformat": 4,
 "nbformat_minor": 4
}
