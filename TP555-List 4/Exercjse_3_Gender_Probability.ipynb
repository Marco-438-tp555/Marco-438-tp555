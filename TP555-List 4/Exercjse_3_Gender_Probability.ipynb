{
 "cells": [
  {
   "cell_type": "code",
   "execution_count": 1,
   "metadata": {},
   "outputs": [],
   "source": [
    "# Import all necessary libraries.\n",
    "import numpy as np\n",
    "from scipy.special import erfc\n",
    "from sklearn.naive_bayes import GaussianNB\n",
    "import matplotlib.pyplot as plt\n",
    "import cmath\n",
    "import scipy as sp"
   ]
  },
  {
   "cell_type": "code",
   "execution_count": 2,
   "metadata": {},
   "outputs": [],
   "source": [
    "# Creating Table of Parameters\n",
    "\n",
    "X = np.array([[1.83,81.65,30.48],[1.80,86.18,27.94],[1.70,77.11,30.48],[1.80,74.84,25.40],[1.52,45.36,15.24],[1.68,68.04,20.32],\n",
    "[1.65,58.97,17.78],[1.75,68.04,22.86]])\n",
    "\n",
    "y = np.array(['Male','Male','Male','Male','Female','Female','Female','Female'])"
   ]
  },
  {
   "cell_type": "code",
   "execution_count": 3,
   "metadata": {},
   "outputs": [
    {
     "data": {
      "text/plain": [
       "GaussianNB(priors=None, var_smoothing=1e-09)"
      ]
     },
     "execution_count": 3,
     "metadata": {},
     "output_type": "execute_result"
    }
   ],
   "source": [
    "# Instantiate a Gaussian Naive Bayes classifier.\n",
    "gnb = GaussianNB()\n",
    "\n",
    "# Training of the classifer with set of parameters X and y\n",
    "gnb.fit(X, y)"
   ]
  },
  {
   "cell_type": "markdown",
   "metadata": {},
   "source": [
    "## Predicting gender of the person based on related data"
   ]
  },
  {
   "cell_type": "code",
   "execution_count": 4,
   "metadata": {},
   "outputs": [
    {
     "name": "stdout",
     "output_type": "stream",
     "text": [
      "Female Gender\n"
     ]
    }
   ],
   "source": [
    "# Executing classification with set of validation.\n",
    "print('%s Gender' % gnb.predict([[1.83,58.97,20.32]])[0])"
   ]
  },
  {
   "cell_type": "code",
   "execution_count": 5,
   "metadata": {},
   "outputs": [
    {
     "name": "stdout",
     "output_type": "stream",
     "text": [
      "[[9.99999851e-01 1.48534481e-07]]\n"
     ]
    }
   ],
   "source": [
    "# Calculating the class probability.  \n",
    "print(gnb.predict_proba([[1.83,58.97,20.32]]) )"
   ]
  },
  {
   "cell_type": "code",
   "execution_count": 6,
   "metadata": {},
   "outputs": [],
   "source": [
    "# Probability of gender\n",
    "Prob_male = 0.5\n",
    "Prob_female = 0.5"
   ]
  },
  {
   "cell_type": "code",
   "execution_count": 7,
   "metadata": {},
   "outputs": [],
   "source": [
    "# Male gender probabilities calculation \n",
    "Height_male = (X[0:3+1,0].mean())\n",
    "Std_Height_male = (X[0:3+1,0].std())\n",
    "Prob_Height_male = sp.stats.norm.pdf(1.83, Height_male, Std_Height_male)\n",
    "Prob_Height_male_X_Prob_male = Prob_Height_male*Prob_male\n",
    "\n",
    "Weight_male = (X[0:3+1,1].mean())\n",
    "Std_Weight_male = (X[0:3+1,1].std())\n",
    "Prob_Weight_male = sp.stats.norm.pdf(58.97, Weight_male, Std_Weight_male)\n",
    "Prob_Weight_male_X_Prob_male = Prob_Weight_male*Prob_male\n",
    "\n",
    "Size_male = (X[0:3+1,2].mean())\n",
    "Std_Size_male = (X[0:3+1,2].std())\n",
    "Prob_Size_male = sp.stats.norm.pdf(20.32, Size_male, Std_Size_male)\n",
    "Prob_Size_male_X_Prob_male = Prob_Size_male*Prob_male"
   ]
  },
  {
   "cell_type": "code",
   "execution_count": 8,
   "metadata": {},
   "outputs": [],
   "source": [
    "# Female gender probabilities calculation\n",
    "Height_female = (X[4:4+3+1,0].mean())\n",
    "Std_Height_female = (X[4:4+3+1,0].std())\n",
    "Prob_Height_female = sp.stats.norm.pdf(1.83, Height_female, Std_Height_female)\n",
    "Prob_Height_female_X_Prob_female = Prob_Height_female*Prob_female\n",
    "\n",
    "Weight_female = (X[4:4+3+1,1].mean())\n",
    "Std_Weight_female = (X[4:4+3+1,1].std())\n",
    "Prob_Weight_female = sp.stats.norm.pdf(58.97, Weight_female, Std_Weight_female)\n",
    "Prob_Weight_female_X_Prob_female = Prob_Weight_female*Prob_female\n",
    "\n",
    "Size_female = (X[4:4+3+1,2].mean())\n",
    "Std_Size_female = (X[4:4+3+1,2].std())\n",
    "Prob_Size_female = sp.stats.norm.pdf(20.32, Size_female, Std_Size_female)\n",
    "Prob_Size_female_X_Prob_female = Prob_Size_female*Prob_female"
   ]
  },
  {
   "cell_type": "code",
   "execution_count": 9,
   "metadata": {},
   "outputs": [],
   "source": [
    "# General atributes probabilities calculation\n",
    "Prob_Height = Prob_Height_male_X_Prob_male + Prob_Height_female_X_Prob_female\n",
    "Prob_Weight = Prob_Weight_male_X_Prob_male + Prob_Weight_female_X_Prob_female\n",
    "Prob_Size = Prob_Size_male_X_Prob_male + Prob_Size_female_X_Prob_female"
   ]
  },
  {
   "cell_type": "markdown",
   "metadata": {},
   "source": [
    "## Probability Person to be male or female"
   ]
  },
  {
   "cell_type": "code",
   "execution_count": 10,
   "metadata": {},
   "outputs": [
    {
     "name": "stdout",
     "output_type": "stream",
     "text": [
      "4.97342048798579e-06 %\n"
     ]
    }
   ],
   "source": [
    "# Probability of the person to be male gender\n",
    "print((((Prob_Height_male*Prob_Weight_male*Prob_Size_male*Prob_male)/(Prob_Height*Prob_Weight*Prob_Size))*100),'%')"
   ]
  },
  {
   "cell_type": "code",
   "execution_count": 11,
   "metadata": {},
   "outputs": [
    {
     "name": "stdout",
     "output_type": "stream",
     "text": [
      "33.48187663718195 %\n"
     ]
    }
   ],
   "source": [
    "# Probability of the person to be female gender\n",
    "print((((Prob_Height_female*Prob_Weight_female*Prob_Size_female*Prob_female)/(Prob_Height*Prob_Weight*Prob_Size))*100),'%')"
   ]
  }
 ],
 "metadata": {
  "kernelspec": {
   "display_name": "Python 3",
   "language": "python",
   "name": "python3"
  },
  "language_info": {
   "codemirror_mode": {
    "name": "ipython",
    "version": 3
   },
   "file_extension": ".py",
   "mimetype": "text/x-python",
   "name": "python",
   "nbconvert_exporter": "python",
   "pygments_lexer": "ipython3",
   "version": "3.7.6"
  }
 },
 "nbformat": 4,
 "nbformat_minor": 2
}
