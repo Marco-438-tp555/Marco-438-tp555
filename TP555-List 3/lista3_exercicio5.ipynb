{
 "cells": [
  {
   "cell_type": "code",
   "execution_count": 1,
   "metadata": {},
   "outputs": [],
   "source": [
    "# Import all the necessary libraries.\n",
    "import numpy as np\n",
    "import timeit\n",
    "import matplotlib.pyplot as plt\n",
    "from sklearn.preprocessing import PolynomialFeatures\n",
    "from sklearn.linear_model import LinearRegression\n",
    "from sklearn.preprocessing import StandardScaler\n",
    "from sklearn.pipeline import Pipeline\n",
    "from sklearn.metrics import mean_squared_error\n",
    "from sklearn.model_selection import train_test_split\n",
    "from sklearn.model_selection import cross_val_score\n",
    "from sklearn.model_selection import KFold\n",
    "from sklearn.model_selection import LeavePOut\n",
    "import csv\n",
    "import pandas as pd"
   ]
  },
  {
   "cell_type": "markdown",
   "metadata": {},
   "source": [
    "## Generate target function and its noisy version"
   ]
  },
  {
   "cell_type": "code",
   "execution_count": 2,
   "metadata": {},
   "outputs": [],
   "source": [
    "# Sets the number of examples.\n",
    "M = 100\n",
    "\n",
    "# Reset pseudo random generator to a known value so that results are reproducible.\n",
    "np.random.seed(42)\n",
    "\n",
    "# Create \"Target Function\" to generate Test Functions\n",
    "def target_function(M, x):\n",
    "    y = 1 + np.sin(2*np.pi*x)\n",
    "    y = y.reshape(M, 1)\n",
    "    y_noisy = y + 0.1*np.random.randn(M, 1)\n",
    "    return y, y_noisy"
   ]
  },
  {
   "cell_type": "code",
   "execution_count": 3,
   "metadata": {},
   "outputs": [],
   "source": [
    "# Create test set.\n",
    "x = np.linspace(0, 1, M).reshape(M, 1)\n",
    "y, y_noisy = target_function(M, x)\n",
    "\n",
    "i = 0\n",
    "writer = csv.writer(open(\"./reg_poli.csv\", 'w'), delimiter=',')\n",
    "for row in y_noisy:\n",
    "    writer.writerow((x[i][0], y_noisy[i][0]))\n",
    "    i = i + 1"
   ]
  },
  {
   "cell_type": "code",
   "execution_count": 4,
   "metadata": {},
   "outputs": [
    {
     "ename": "EmptyDataError",
     "evalue": "No columns to parse from file",
     "output_type": "error",
     "traceback": [
      "\u001b[1;31m---------------------------------------------------------------------------\u001b[0m",
      "\u001b[1;31mEmptyDataError\u001b[0m                            Traceback (most recent call last)",
      "\u001b[1;32m<ipython-input-4-b5437cf1930d>\u001b[0m in \u001b[0;36m<module>\u001b[1;34m\u001b[0m\n\u001b[1;32m----> 1\u001b[1;33m \u001b[0mdf\u001b[0m \u001b[1;33m=\u001b[0m \u001b[0mpd\u001b[0m\u001b[1;33m.\u001b[0m\u001b[0mread_csv\u001b[0m\u001b[1;33m(\u001b[0m\u001b[1;34m'./reg_poli.csv'\u001b[0m\u001b[1;33m,\u001b[0m \u001b[0mheader\u001b[0m\u001b[1;33m=\u001b[0m\u001b[1;32mNone\u001b[0m\u001b[1;33m)\u001b[0m\u001b[1;33m\u001b[0m\u001b[1;33m\u001b[0m\u001b[0m\n\u001b[0m\u001b[0;32m      2\u001b[0m \u001b[1;33m\u001b[0m\u001b[0m\n\u001b[0;32m      3\u001b[0m \u001b[0mx\u001b[0m \u001b[1;33m=\u001b[0m \u001b[0mdf\u001b[0m\u001b[1;33m[\u001b[0m\u001b[1;36m0\u001b[0m\u001b[1;33m]\u001b[0m\u001b[1;33m.\u001b[0m\u001b[0mto_numpy\u001b[0m\u001b[1;33m(\u001b[0m\u001b[1;33m)\u001b[0m\u001b[1;33m\u001b[0m\u001b[1;33m\u001b[0m\u001b[0m\n\u001b[0;32m      4\u001b[0m \u001b[0my_noisy\u001b[0m \u001b[1;33m=\u001b[0m \u001b[0mdf\u001b[0m\u001b[1;33m[\u001b[0m\u001b[1;36m1\u001b[0m\u001b[1;33m]\u001b[0m\u001b[1;33m.\u001b[0m\u001b[0mto_numpy\u001b[0m\u001b[1;33m(\u001b[0m\u001b[1;33m)\u001b[0m\u001b[1;33m\u001b[0m\u001b[1;33m\u001b[0m\u001b[0m\n\u001b[0;32m      5\u001b[0m \u001b[1;33m\u001b[0m\u001b[0m\n",
      "\u001b[1;32m~\\anaconda3\\lib\\site-packages\\pandas\\io\\parsers.py\u001b[0m in \u001b[0;36mparser_f\u001b[1;34m(filepath_or_buffer, sep, delimiter, header, names, index_col, usecols, squeeze, prefix, mangle_dupe_cols, dtype, engine, converters, true_values, false_values, skipinitialspace, skiprows, skipfooter, nrows, na_values, keep_default_na, na_filter, verbose, skip_blank_lines, parse_dates, infer_datetime_format, keep_date_col, date_parser, dayfirst, cache_dates, iterator, chunksize, compression, thousands, decimal, lineterminator, quotechar, quoting, doublequote, escapechar, comment, encoding, dialect, error_bad_lines, warn_bad_lines, delim_whitespace, low_memory, memory_map, float_precision)\u001b[0m\n\u001b[0;32m    674\u001b[0m         )\n\u001b[0;32m    675\u001b[0m \u001b[1;33m\u001b[0m\u001b[0m\n\u001b[1;32m--> 676\u001b[1;33m         \u001b[1;32mreturn\u001b[0m \u001b[0m_read\u001b[0m\u001b[1;33m(\u001b[0m\u001b[0mfilepath_or_buffer\u001b[0m\u001b[1;33m,\u001b[0m \u001b[0mkwds\u001b[0m\u001b[1;33m)\u001b[0m\u001b[1;33m\u001b[0m\u001b[1;33m\u001b[0m\u001b[0m\n\u001b[0m\u001b[0;32m    677\u001b[0m \u001b[1;33m\u001b[0m\u001b[0m\n\u001b[0;32m    678\u001b[0m     \u001b[0mparser_f\u001b[0m\u001b[1;33m.\u001b[0m\u001b[0m__name__\u001b[0m \u001b[1;33m=\u001b[0m \u001b[0mname\u001b[0m\u001b[1;33m\u001b[0m\u001b[1;33m\u001b[0m\u001b[0m\n",
      "\u001b[1;32m~\\anaconda3\\lib\\site-packages\\pandas\\io\\parsers.py\u001b[0m in \u001b[0;36m_read\u001b[1;34m(filepath_or_buffer, kwds)\u001b[0m\n\u001b[0;32m    446\u001b[0m \u001b[1;33m\u001b[0m\u001b[0m\n\u001b[0;32m    447\u001b[0m     \u001b[1;31m# Create the parser.\u001b[0m\u001b[1;33m\u001b[0m\u001b[1;33m\u001b[0m\u001b[1;33m\u001b[0m\u001b[0m\n\u001b[1;32m--> 448\u001b[1;33m     \u001b[0mparser\u001b[0m \u001b[1;33m=\u001b[0m \u001b[0mTextFileReader\u001b[0m\u001b[1;33m(\u001b[0m\u001b[0mfp_or_buf\u001b[0m\u001b[1;33m,\u001b[0m \u001b[1;33m**\u001b[0m\u001b[0mkwds\u001b[0m\u001b[1;33m)\u001b[0m\u001b[1;33m\u001b[0m\u001b[1;33m\u001b[0m\u001b[0m\n\u001b[0m\u001b[0;32m    449\u001b[0m \u001b[1;33m\u001b[0m\u001b[0m\n\u001b[0;32m    450\u001b[0m     \u001b[1;32mif\u001b[0m \u001b[0mchunksize\u001b[0m \u001b[1;32mor\u001b[0m \u001b[0miterator\u001b[0m\u001b[1;33m:\u001b[0m\u001b[1;33m\u001b[0m\u001b[1;33m\u001b[0m\u001b[0m\n",
      "\u001b[1;32m~\\anaconda3\\lib\\site-packages\\pandas\\io\\parsers.py\u001b[0m in \u001b[0;36m__init__\u001b[1;34m(self, f, engine, **kwds)\u001b[0m\n\u001b[0;32m    878\u001b[0m             \u001b[0mself\u001b[0m\u001b[1;33m.\u001b[0m\u001b[0moptions\u001b[0m\u001b[1;33m[\u001b[0m\u001b[1;34m\"has_index_names\"\u001b[0m\u001b[1;33m]\u001b[0m \u001b[1;33m=\u001b[0m \u001b[0mkwds\u001b[0m\u001b[1;33m[\u001b[0m\u001b[1;34m\"has_index_names\"\u001b[0m\u001b[1;33m]\u001b[0m\u001b[1;33m\u001b[0m\u001b[1;33m\u001b[0m\u001b[0m\n\u001b[0;32m    879\u001b[0m \u001b[1;33m\u001b[0m\u001b[0m\n\u001b[1;32m--> 880\u001b[1;33m         \u001b[0mself\u001b[0m\u001b[1;33m.\u001b[0m\u001b[0m_make_engine\u001b[0m\u001b[1;33m(\u001b[0m\u001b[0mself\u001b[0m\u001b[1;33m.\u001b[0m\u001b[0mengine\u001b[0m\u001b[1;33m)\u001b[0m\u001b[1;33m\u001b[0m\u001b[1;33m\u001b[0m\u001b[0m\n\u001b[0m\u001b[0;32m    881\u001b[0m \u001b[1;33m\u001b[0m\u001b[0m\n\u001b[0;32m    882\u001b[0m     \u001b[1;32mdef\u001b[0m \u001b[0mclose\u001b[0m\u001b[1;33m(\u001b[0m\u001b[0mself\u001b[0m\u001b[1;33m)\u001b[0m\u001b[1;33m:\u001b[0m\u001b[1;33m\u001b[0m\u001b[1;33m\u001b[0m\u001b[0m\n",
      "\u001b[1;32m~\\anaconda3\\lib\\site-packages\\pandas\\io\\parsers.py\u001b[0m in \u001b[0;36m_make_engine\u001b[1;34m(self, engine)\u001b[0m\n\u001b[0;32m   1112\u001b[0m     \u001b[1;32mdef\u001b[0m \u001b[0m_make_engine\u001b[0m\u001b[1;33m(\u001b[0m\u001b[0mself\u001b[0m\u001b[1;33m,\u001b[0m \u001b[0mengine\u001b[0m\u001b[1;33m=\u001b[0m\u001b[1;34m\"c\"\u001b[0m\u001b[1;33m)\u001b[0m\u001b[1;33m:\u001b[0m\u001b[1;33m\u001b[0m\u001b[1;33m\u001b[0m\u001b[0m\n\u001b[0;32m   1113\u001b[0m         \u001b[1;32mif\u001b[0m \u001b[0mengine\u001b[0m \u001b[1;33m==\u001b[0m \u001b[1;34m\"c\"\u001b[0m\u001b[1;33m:\u001b[0m\u001b[1;33m\u001b[0m\u001b[1;33m\u001b[0m\u001b[0m\n\u001b[1;32m-> 1114\u001b[1;33m             \u001b[0mself\u001b[0m\u001b[1;33m.\u001b[0m\u001b[0m_engine\u001b[0m \u001b[1;33m=\u001b[0m \u001b[0mCParserWrapper\u001b[0m\u001b[1;33m(\u001b[0m\u001b[0mself\u001b[0m\u001b[1;33m.\u001b[0m\u001b[0mf\u001b[0m\u001b[1;33m,\u001b[0m \u001b[1;33m**\u001b[0m\u001b[0mself\u001b[0m\u001b[1;33m.\u001b[0m\u001b[0moptions\u001b[0m\u001b[1;33m)\u001b[0m\u001b[1;33m\u001b[0m\u001b[1;33m\u001b[0m\u001b[0m\n\u001b[0m\u001b[0;32m   1115\u001b[0m         \u001b[1;32melse\u001b[0m\u001b[1;33m:\u001b[0m\u001b[1;33m\u001b[0m\u001b[1;33m\u001b[0m\u001b[0m\n\u001b[0;32m   1116\u001b[0m             \u001b[1;32mif\u001b[0m \u001b[0mengine\u001b[0m \u001b[1;33m==\u001b[0m \u001b[1;34m\"python\"\u001b[0m\u001b[1;33m:\u001b[0m\u001b[1;33m\u001b[0m\u001b[1;33m\u001b[0m\u001b[0m\n",
      "\u001b[1;32m~\\anaconda3\\lib\\site-packages\\pandas\\io\\parsers.py\u001b[0m in \u001b[0;36m__init__\u001b[1;34m(self, src, **kwds)\u001b[0m\n\u001b[0;32m   1889\u001b[0m         \u001b[0mkwds\u001b[0m\u001b[1;33m[\u001b[0m\u001b[1;34m\"usecols\"\u001b[0m\u001b[1;33m]\u001b[0m \u001b[1;33m=\u001b[0m \u001b[0mself\u001b[0m\u001b[1;33m.\u001b[0m\u001b[0musecols\u001b[0m\u001b[1;33m\u001b[0m\u001b[1;33m\u001b[0m\u001b[0m\n\u001b[0;32m   1890\u001b[0m \u001b[1;33m\u001b[0m\u001b[0m\n\u001b[1;32m-> 1891\u001b[1;33m         \u001b[0mself\u001b[0m\u001b[1;33m.\u001b[0m\u001b[0m_reader\u001b[0m \u001b[1;33m=\u001b[0m \u001b[0mparsers\u001b[0m\u001b[1;33m.\u001b[0m\u001b[0mTextReader\u001b[0m\u001b[1;33m(\u001b[0m\u001b[0msrc\u001b[0m\u001b[1;33m,\u001b[0m \u001b[1;33m**\u001b[0m\u001b[0mkwds\u001b[0m\u001b[1;33m)\u001b[0m\u001b[1;33m\u001b[0m\u001b[1;33m\u001b[0m\u001b[0m\n\u001b[0m\u001b[0;32m   1892\u001b[0m         \u001b[0mself\u001b[0m\u001b[1;33m.\u001b[0m\u001b[0munnamed_cols\u001b[0m \u001b[1;33m=\u001b[0m \u001b[0mself\u001b[0m\u001b[1;33m.\u001b[0m\u001b[0m_reader\u001b[0m\u001b[1;33m.\u001b[0m\u001b[0munnamed_cols\u001b[0m\u001b[1;33m\u001b[0m\u001b[1;33m\u001b[0m\u001b[0m\n\u001b[0;32m   1893\u001b[0m \u001b[1;33m\u001b[0m\u001b[0m\n",
      "\u001b[1;32mpandas\\_libs\\parsers.pyx\u001b[0m in \u001b[0;36mpandas._libs.parsers.TextReader.__cinit__\u001b[1;34m()\u001b[0m\n",
      "\u001b[1;31mEmptyDataError\u001b[0m: No columns to parse from file"
     ]
    }
   ],
   "source": [
    "df = pd.read_csv('./reg_poli.csv', header=None)\n",
    "\n",
    "x = df[0].to_numpy()\n",
    "y_noisy = df[1].to_numpy()\n",
    "        "
   ]
  },
  {
   "cell_type": "code",
   "execution_count": null,
   "metadata": {},
   "outputs": [],
   "source": [
    "# Plot cost-function surface.\n",
    "fig = plt.figure(figsize=(7,7))\n",
    "plt.plot(x, y, label='Dado original')\n",
    "plt.plot(x, y_noisy, 'x', label='Dado ruidoso')\n",
    "plt.xlabel('$x$', fontsize=14)\n",
    "plt.ylabel('$y$', fontsize=14)\n",
    "plt.legend()\n",
    "plt.grid()\n",
    "#Show the plot.\n",
    "plt.show()"
   ]
  },
  {
   "cell_type": "code",
   "execution_count": null,
   "metadata": {},
   "outputs": [],
   "source": [
    "# Reshape arrays so that they become column vectors.\n",
    "x = x.reshape(len(x),1)\n",
    "y_noisy = y_noisy.reshape(len(x),1)"
   ]
  },
  {
   "cell_type": "markdown",
   "metadata": {},
   "source": [
    "## holdout cross-validation (70/30%)"
   ]
  },
  {
   "cell_type": "code",
   "execution_count": null,
   "metadata": {},
   "outputs": [],
   "source": [
    "# Get timestamp of holdout start.\n",
    "starttime = timeit.default_timer()\n",
    "\n",
    "# Split the whole set into random training and validation set.\n",
    "x_train, x_val, y_train, y_val = train_test_split(x, y_noisy, test_size=0.3, random_state=42)\n",
    "\n",
    "print('tamanho conjunto de treinamento:', len(y_train))\n",
    "print('tamanho conjunto de validação:', len(y_val))\n",
    "\n",
    "include_bias = True\n",
    "mean_vec = []\n",
    "train_vec = []\n",
    "for d in range(1, 13):\n",
    "    # Instantiate a polynomial.\n",
    "    poly_features = PolynomialFeatures(degree=d, include_bias=include_bias)\n",
    "    # Instantiate a scaler.\n",
    "    std_scaler = StandardScaler()\n",
    "    # Instantiate a linear regressor.\n",
    "    lin_reg = LinearRegression()\n",
    "\n",
    "    # Create a pipeline of actions.\n",
    "    polynomial_regression = Pipeline([\n",
    "        (\"poly_features\", poly_features),\n",
    "        (\"std_scaler\", std_scaler),\n",
    "        (\"lin_reg\", lin_reg),\n",
    "    ])\n",
    "\n",
    "    polynomial_regression.fit(x_train, y_train)\n",
    "    \n",
    "    y_val_predict = polynomial_regression.predict(x_val)\n",
    "    \n",
    "    y_train_predict = polynomial_regression.predict(x_train)\n",
    "    \n",
    "    train_vec.append(np.sqrt(mean_squared_error(y_train, y_train_predict)))\n",
    "    \n",
    "    mean_vec.append(np.sqrt(mean_squared_error(y_val, y_val_predict)))\n",
    "    \n",
    "print(\"Tempo de execução: %1.4f [s]\" % (timeit.default_timer() - starttime))    "
   ]
  },
  {
   "cell_type": "code",
   "execution_count": null,
   "metadata": {},
   "outputs": [],
   "source": [
    "# Plot results.\n",
    "plt.figure(figsize=(5, 5))\n",
    "plt.plot(range(1, 13), train_vec, label='Treinamento')\n",
    "plt.plot(range(1, 13), mean_vec, label='Validação')\n",
    "plt.xlabel('Ordem do polinômio', fontsize=14)\n",
    "plt.ylabel('Erro quadrático Médio', fontsize=14)\n",
    "plt.xticks(range(0, 13, 2))\n",
    "plt.xlim([1, 12])\n",
    "plt.legend()\n",
    "plt.grid()\n",
    "#Show the plot.\n",
    "plt.show()"
   ]
  },
  {
   "cell_type": "markdown",
   "metadata": {},
   "source": [
    "## k-fold"
   ]
  },
  {
   "cell_type": "code",
   "execution_count": null,
   "metadata": {},
   "outputs": [],
   "source": [
    "# Get timestamp of holdout start.\n",
    "starttime = timeit.default_timer()\n",
    "\n",
    "# Instantiate the k-Fold object.\n",
    "kfold = KFold(n_splits=10, shuffle=True, random_state=42)\n",
    "\n",
    "mean_vec = []\n",
    "std_vec = []\n",
    "for d in range(1, 13):\n",
    "    # Instantiate a polynomial.\n",
    "    poly_features = PolynomialFeatures(degree=d, include_bias=include_bias)\n",
    "    # Instantiate a scaler.\n",
    "    std_scaler = StandardScaler()\n",
    "    # Instantiate a linear regressor.\n",
    "    lin_reg = LinearRegression()\n",
    "\n",
    "    # Create a pipeline of actions.\n",
    "    polynomial_regression = Pipeline([\n",
    "        (\"poly_features\", poly_features),\n",
    "        (\"std_scaler\", std_scaler),\n",
    "        (\"lin_reg\", lin_reg),\n",
    "    ])\n",
    "\n",
    "    lin_scores = cross_val_score(polynomial_regression, x, y_noisy, scoring='neg_mean_squared_error', cv=kfold)\n",
    "        \n",
    "    scores = np.sqrt(-lin_scores)\n",
    "    mean_vec.append(scores.mean())\n",
    "    std_vec.append(scores.std())\n",
    "\n",
    "print(\"Tempo de execução: %1.4f [s]\" % (timeit.default_timer() - starttime))    "
   ]
  },
  {
   "cell_type": "code",
   "execution_count": null,
   "metadata": {},
   "outputs": [],
   "source": [
    "# Plot results.\n",
    "plt.figure(figsize=(20, 5))\n",
    "ax = plt.subplot(1, 2, 1)\n",
    "plt.plot(range(1, 13), mean_vec,  label='Erro quadrático médio')\n",
    "plt.xlabel('Ordem do polinômio', fontsize=14)\n",
    "plt.ylabel('Média do Erro quadrático Médio', fontsize=14)\n",
    "plt.xticks(range(0, 13, 2))\n",
    "plt.xlim([1, 12])\n",
    "plt.legend()\n",
    "plt.grid()\n",
    "\n",
    "ax = plt.subplot(1, 2, 2)\n",
    "plt.plot(range(1, 13), std_vec,  label='Desvio padrão do erro')\n",
    "plt.xlabel('Ordem do polinômio', fontsize=14)\n",
    "plt.ylabel('Desvio padrão', fontsize=14)\n",
    "plt.xticks(range(0, 13, 2))\n",
    "plt.xlim([1, 12])\n",
    "plt.legend()\n",
    "plt.grid()\n",
    "\n",
    "#Show the plot.\n",
    "plt.show()"
   ]
  },
  {
   "cell_type": "markdown",
   "metadata": {},
   "source": [
    "## Leave-p-out (p=1)"
   ]
  },
  {
   "cell_type": "code",
   "execution_count": null,
   "metadata": {},
   "outputs": [],
   "source": [
    "# Get timestamp of holdout start.\n",
    "starttime = timeit.default_timer()\n",
    "\n",
    "# Instantiate the LPOCV object.\n",
    "lpocv = LeavePOut(p=1)\n",
    "\n",
    "mean_vec = []\n",
    "std_vec = []\n",
    "for d in range(1, 13):\n",
    "    # Instantiate a polynomial.\n",
    "    poly_features = PolynomialFeatures(degree=d, include_bias=include_bias)\n",
    "    # Instantiate a scaler.\n",
    "    std_scaler = StandardScaler()\n",
    "    # Instantiate a linear regressor.\n",
    "    lin_reg = LinearRegression()\n",
    "\n",
    "    # Create a pipeline of actions.\n",
    "    polynomial_regression = Pipeline([\n",
    "        (\"poly_features\", poly_features),\n",
    "        (\"std_scaler\", std_scaler),\n",
    "        (\"lin_reg\", lin_reg),\n",
    "    ])\n",
    "\n",
    "    lin_scores = cross_val_score(polynomial_regression, x, y_noisy, scoring='neg_mean_squared_error', cv=lpocv)\n",
    "        \n",
    "    scores = np.sqrt(-lin_scores)\n",
    "    mean_vec.append(scores.mean())\n",
    "    std_vec.append(scores.std())\n",
    "    \n",
    "print(\"Tempo de execução: %1.4f [s]\" % (timeit.default_timer() - starttime)) "
   ]
  },
  {
   "cell_type": "code",
   "execution_count": null,
   "metadata": {},
   "outputs": [],
   "source": [
    "# Plot results.\n",
    "plt.figure(figsize=(20, 5))\n",
    "ax = plt.subplot(1, 2, 1)\n",
    "plt.plot(range(1, 13), mean_vec,  label='Erro quadrático médio')\n",
    "plt.xlabel('Ordem do polinômio', fontsize=14)\n",
    "plt.ylabel('Média do Erro quadrático Médio', fontsize=14)\n",
    "plt.yscale('log')\n",
    "plt.xticks(range(0, 13, 2))\n",
    "plt.xlim([1, 12])\n",
    "#plt.ylim([0.78, 0.81])\n",
    "plt.legend()\n",
    "plt.grid()\n",
    "\n",
    "ax = plt.subplot(1, 2, 2)\n",
    "plt.plot(range(1, 13), std_vec,  label='Desvio padrão do erro')\n",
    "plt.xlabel('Ordem do polinômio', fontsize=14)\n",
    "plt.ylabel('Desvio padrão', fontsize=14)\n",
    "plt.xticks(range(0, 13, 2))\n",
    "plt.xlim([1, 12])\n",
    "plt.legend()\n",
    "plt.grid()\n",
    "\n",
    "#Show the plot.\n",
    "plt.show()"
   ]
  },
  {
   "cell_type": "markdown",
   "metadata": {},
   "source": [
    "## Learning-curves"
   ]
  },
  {
   "cell_type": "code",
   "execution_count": null,
   "metadata": {},
   "outputs": [],
   "source": [
    "# Polinomial degrees to be tested.\n",
    "degrees = [2, 5, 12]\n",
    "\n",
    "plt.figure(figsize=(20, 5))\n",
    "for i in range(len(degrees)):\n",
    "    ax = plt.subplot(1, len(degrees), i + 1)\n",
    "\n",
    "    # Instantiate a polynomial.\n",
    "    poly_features = PolynomialFeatures(degree=degrees[i], include_bias=include_bias)\n",
    "    # Instantiate a scaler.\n",
    "    std_scaler = StandardScaler()\n",
    "    # Instantiate a linear regressor.\n",
    "    lin_reg = LinearRegression()\n",
    "\n",
    "    # Create a pipeline of actions.\n",
    "    polynomial_regression = Pipeline([\n",
    "        (\"poly_features\", poly_features),\n",
    "        (\"std_scaler\", std_scaler),\n",
    "        (\"lin_reg\", lin_reg),\n",
    "    ])\n",
    "\n",
    "    error_training = []\n",
    "    error_validation = []\n",
    "    for m in range(1,len(x_train)+1):\n",
    "\n",
    "        # Perform polynomial regression.\n",
    "        polynomial_regression.fit(x_train[:m], y_train[:m])\n",
    "\n",
    "        # Use the trained model for prediction of the training set.\n",
    "        y_train_predict = polynomial_regression.predict(x_train[:m])\n",
    "\n",
    "        # Use the trained model for prediction of the validation set.\n",
    "        y_val_predict = polynomial_regression.predict(x_val)       \n",
    "\n",
    "        # Calculate MSE for training set.\n",
    "        error_training.append(mean_squared_error(y_train[:m], y_train_predict))\n",
    "\n",
    "        # Calculate MSE for validation set.\n",
    "        error_validation.append(mean_squared_error(y_val, y_val_predict))       \n",
    "\n",
    "    plt.plot(range(1,len(x_train)+1), np.sqrt(error_training), label='Conjunto de treinamento')\n",
    "    plt.plot(range(1,len(x_train)+1), np.sqrt(error_validation), label='Conjunto de validação')\n",
    "    plt.yscale('log')\n",
    "    plt.xlabel('Tamanho do conjunto de treinamento', fontsize=14)\n",
    "    plt.ylabel('Erro Quadrático Médio', fontsize=14)\n",
    "    plt.grid()\n",
    "    plt.ylim([1e-2, 10])\n",
    "    plt.title('Polinômio de ordem '+str(degrees[i]))\n",
    "    plt.legend(loc='best')\n",
    "    \n",
    "#Show the plot.\n",
    "plt.show()"
   ]
  },
  {
   "cell_type": "markdown",
   "metadata": {},
   "source": [
    "## Train model"
   ]
  },
  {
   "cell_type": "code",
   "execution_count": null,
   "metadata": {},
   "outputs": [],
   "source": [
    "degree = 5\n",
    "include_bias = False\n",
    "\n",
    "# Instantiate a polynomial with the given degree.\n",
    "poly_features = PolynomialFeatures(degree=degree, include_bias=include_bias)\n",
    "# Instantiate a scaler that will standardize the features.\n",
    "std_scaler = StandardScaler()\n",
    "# Instantiate a linear regressor.\n",
    "lin_reg = LinearRegression()\n",
    "\n",
    "# Create a pipeline of actions.\n",
    "model = Pipeline([\n",
    "    (\"poly_features\", poly_features),\n",
    "    (\"std_scaler\", std_scaler),\n",
    "    (\"lin_reg\", lin_reg),\n",
    "])\n",
    "\n",
    "# Train model.\n",
    "model.fit(x, y_noisy)\n",
    "\n",
    "# Prediction\n",
    "y_pred = model.predict(x)"
   ]
  },
  {
   "cell_type": "code",
   "execution_count": null,
   "metadata": {},
   "outputs": [],
   "source": [
    "# Plot cost-function surface.\n",
    "fig = plt.figure(figsize=(7,7))\n",
    "plt.plot(x, y, label='Dado original')\n",
    "plt.plot(x, y_noisy, 'x', label='Dado ruidoso')\n",
    "plt.plot(x, y_pred, 'x', label='Hipótese')\n",
    "plt.xlabel('$x$', fontsize=14)\n",
    "plt.ylabel('$y$', fontsize=14)\n",
    "plt.legend()\n",
    "plt.grid()\n",
    "#Show the plot.\n",
    "plt.show()"
   ]
  }
 ],
 "metadata": {
  "kernelspec": {
   "display_name": "Python 3",
   "language": "python",
   "name": "python3"
  },
  "language_info": {
   "codemirror_mode": {
    "name": "ipython",
    "version": 3
   },
   "file_extension": ".py",
   "mimetype": "text/x-python",
   "name": "python",
   "nbconvert_exporter": "python",
   "pygments_lexer": "ipython3",
   "version": "3.7.6"
  }
 },
 "nbformat": 4,
 "nbformat_minor": 2
}
