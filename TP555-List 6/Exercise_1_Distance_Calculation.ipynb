{
 "cells": [
  {
   "cell_type": "code",
   "execution_count": 31,
   "metadata": {},
   "outputs": [],
   "source": [
    "# Import all necessary libraries.\n",
    "import numpy as np\n",
    "import matplotlib.pyplot as plt\n",
    "from sklearn.neighbors import KNeighborsClassifier"
   ]
  },
  {
   "cell_type": "code",
   "execution_count": 32,
   "metadata": {},
   "outputs": [],
   "source": [
    "# Set of Training to plot\n",
    "X1_0 = [[4], [5], [3], [6]]\n",
    "X2_0 = [[7], [6], [4], [9]]\n",
    "\n",
    "X1_1 = [[6], [7], [8], [10], [12]]\n",
    "X2_1 = [[4], [6], [0], [10], [3]]\n",
    "\n",
    "# Validation Samples \n",
    "X1 = [6]\n",
    "X2 = [5]"
   ]
  },
  {
   "cell_type": "code",
   "execution_count": 44,
   "metadata": {},
   "outputs": [
    {
     "data": {
      "image/png": "[encoded data removed]",
      "text/plain": [
       "<Figure size 720x720 with 1 Axes>"
      ]
     },
     "metadata": {
      "needs_background": "light"
     },
     "output_type": "display_data"
    }
   ],
   "source": [
    "# Plot of data\n",
    "fig = plt.figure(figsize=(10,10))\n",
    "plt.plot(X1_0, X2_0, '.', label='Class 0')\n",
    "plt.plot(X1_1, X2_1, 'rx', label='Class 1')\n",
    "plt.plot(X1, X2, '^', color='green', label='Validation Sample')\n",
    "plt.xlabel('$x_1$', fontsize=15)\n",
    "plt.ylabel('$x_2$', fontsize=15)\n",
    "plt.legend()\n",
    "plt.grid()\n",
    "#plt.savefig('Data Plot.png', dpi=600)\n",
    "plt.show()"
   ]
  },
  {
   "cell_type": "code",
   "execution_count": 40,
   "metadata": {},
   "outputs": [],
   "source": [
    "# Creating Set of Training\n",
    "\n",
    "x = [[4, 7], [5, 6], [3, 4], [6, 9], [6, 4], [7, 6], [8, 0], [10, 10], [12, 3]]\n",
    "y = [0, 0, 0, 0, 1, 1, 1, 1, 1]"
   ]
  },
  {
   "cell_type": "markdown",
   "metadata": {},
   "source": [
    "## Class of the Validation Samples - Predict and kneighbors methods"
   ]
  },
  {
   "cell_type": "code",
   "execution_count": 37,
   "metadata": {},
   "outputs": [
    {
     "name": "stdout",
     "output_type": "stream",
     "text": [
      " using K = 3, the validation samples X1 = 6, X2 = 5, belongs to the class => [1]\n",
      "\n",
      " using K = 3, the probability a Probabilidade de pertencer a Classe [1] is: [[33.33333333 66.66666667]] %\n"
     ]
    }
   ],
   "source": [
    "# Create an instance of Neighbours Classifier and fit the data for K = 3.\n",
    "clf = KNeighborsClassifier(n_neighbors = 3)\n",
    "\n",
    "# Train the classifier.\n",
    "clf.fit(x, y)\n",
    "\n",
    "# Predict\n",
    "y_pred = clf.predict([[6, 5]])\n",
    "\n",
    "# Class Probability\n",
    "y_proba = clf.predict_proba([[6, 5]])\n",
    "\n",
    "print(' using K = 3, the validation samples X1 = 6, X2 = 5, belongs to the class =>', y_pred)\n",
    "\n",
    "print('\\n using K = 3, the probability a Probabilidade de pertencer a Classe', y_pred, 'is:', y_proba*100,'%')"
   ]
  },
  {
   "cell_type": "code",
   "execution_count": 38,
   "metadata": {},
   "outputs": [
    {
     "name": "stdout",
     "output_type": "stream",
     "text": [
      " using K = 5, the validation samples X1 = 6, X2 = 5, belongs to the class => [0]\n",
      "\n",
      " using K = 5, the probability a Probabilidade de pertencer a Classe [0] is: [[60. 40.]] %\n"
     ]
    }
   ],
   "source": [
    "# Create an instance of Neighbours Classifier and fit the data for K = 5.\n",
    "clf = KNeighborsClassifier(n_neighbors = 5)\n",
    "\n",
    "# Train the classifier.\n",
    "clf.fit(x, y)\n",
    "\n",
    "# Predict\n",
    "y_pred = clf.predict([[6, 5]])\n",
    "\n",
    "# Class Probability\n",
    "y_proba = clf.predict_proba([[6, 5]])\n",
    "\n",
    "print(' using K = 5, the validation samples X1 = 6, X2 = 5, belongs to the class =>', y_pred)\n",
    "\n",
    "print('\\n using K = 5, the probability a Probabilidade de pertencer a Classe', y_pred, 'is:', y_proba*100,'%')"
   ]
  }
 ],
 "metadata": {
  "kernelspec": {
   "display_name": "Python 3",
   "language": "python",
   "name": "python3"
  },
  "language_info": {
   "codemirror_mode": {
    "name": "ipython",
    "version": 3
   },
   "file_extension": ".py",
   "mimetype": "text/x-python",
   "name": "python",
   "nbconvert_exporter": "python",
   "pygments_lexer": "ipython3",
   "version": "3.7.6"
  }
 },
 "nbformat": 4,
 "nbformat_minor": 2
}
