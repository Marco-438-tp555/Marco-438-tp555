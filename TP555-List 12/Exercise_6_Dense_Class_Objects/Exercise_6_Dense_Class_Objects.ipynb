{
 "cells": [
  {
   "cell_type": "code",
   "execution_count": 2,
   "metadata": {},
   "outputs": [
    {
     "data": {
      "text/plain": [
       "tensorflow.python.keras.layers.core.Dense"
      ]
     },
     "execution_count": 2,
     "metadata": {},
     "output_type": "execute_result"
    }
   ],
   "source": [
    "import tensorflow as tf\n",
    "import numpy as np\n",
    "import tfgraphviz as tfg\n",
    "from tensorboard import notebook\n",
    "from keras.models import Sequential \n",
    "from keras.layers import Activation, Dense \n",
    "tf.compat.v1.keras.layers.Dense"
   ]
  },
  {
   "cell_type": "code",
   "execution_count": 3,
   "metadata": {},
   "outputs": [],
   "source": [
    "# to make this notebook's output stable across runs\n",
    "def reset_graph(seed=42):\n",
    "    tf.reset_default_graph()\n",
    "    tf.set_random_seed(seed)\n",
    "    np.random.seed(seed)\n",
    "    \n",
    "def shuffle_batch(X, y, batch_size):\n",
    "    rnd_idx = np.random.permutation(len(X))\n",
    "    n_batches = len(X) // batch_size\n",
    "    for batch_idx in np.array_split(rnd_idx, n_batches):\n",
    "        X_batch, y_batch = X[batch_idx], y[batch_idx]\n",
    "        yield X_batch, y_batch"
   ]
  },
  {
   "cell_type": "code",
   "execution_count": 4,
   "metadata": {},
   "outputs": [],
   "source": [
    "n_inputs = 28*28 # MNIST\n",
    "n_hidden1 = 300\n",
    "n_hidden2 = 100\n",
    "n_outputs = 10"
   ]
  },
  {
   "cell_type": "code",
   "execution_count": 5,
   "metadata": {},
   "outputs": [],
   "source": [
    "(X_train, y_train), (X_test, y_test) = tf.keras.datasets.mnist.load_data()\n",
    "X_train = X_train.astype(np.float32).reshape(-1, 28*28) / 255.0\n",
    "X_test = X_test.astype(np.float32).reshape(-1, 28*28) / 255.0\n",
    "y_train = y_train.astype(np.int32)\n",
    "y_test = y_test.astype(np.int32)\n",
    "X_valid, X_train = X_train[:5000], X_train[5000:]\n",
    "y_valid, y_train = y_train[:5000], y_train[5000:]"
   ]
  },
  {
   "cell_type": "code",
   "execution_count": 6,
   "metadata": {},
   "outputs": [
    {
     "name": "stdout",
     "output_type": "stream",
     "text": [
      "WARNING:tensorflow:From <ipython-input-6-a320dff53bdf>:8: dense (from tensorflow.python.layers.core) is deprecated and will be removed in a future version.\n",
      "Instructions for updating:\n",
      "Use keras.layers.dense instead.\n",
      "WARNING:tensorflow:From C:\\Users\\mferrero\\Anaconda3\\lib\\site-packages\\tensorflow\\python\\ops\\init_ops.py:1251: calling VarianceScaling.__init__ (from tensorflow.python.ops.init_ops) with dtype is deprecated and will be removed in a future version.\n",
      "Instructions for updating:\n",
      "Call initializer instance with the dtype argument instead of passing it to the constructor\n",
      "WARNING:tensorflow:Entity <bound method Dense.call of <tensorflow.python.layers.core.Dense object at 0x000001B01DCD1E48>> could not be transformed and will be executed as-is. Please report this to the AutgoGraph team. When filing the bug, set the verbosity to 10 (on Linux, `export AUTOGRAPH_VERBOSITY=10`) and attach the full output. Cause: converting <bound method Dense.call of <tensorflow.python.layers.core.Dense object at 0x000001B01DCD1E48>>: AssertionError: Bad argument number for Name: 3, expecting 4\n",
      "WARNING: Entity <bound method Dense.call of <tensorflow.python.layers.core.Dense object at 0x000001B01DCD1E48>> could not be transformed and will be executed as-is. Please report this to the AutgoGraph team. When filing the bug, set the verbosity to 10 (on Linux, `export AUTOGRAPH_VERBOSITY=10`) and attach the full output. Cause: converting <bound method Dense.call of <tensorflow.python.layers.core.Dense object at 0x000001B01DCD1E48>>: AssertionError: Bad argument number for Name: 3, expecting 4\n",
      "WARNING:tensorflow:Entity <bound method Dense.call of <tensorflow.python.layers.core.Dense object at 0x000001B01DCB3888>> could not be transformed and will be executed as-is. Please report this to the AutgoGraph team. When filing the bug, set the verbosity to 10 (on Linux, `export AUTOGRAPH_VERBOSITY=10`) and attach the full output. Cause: converting <bound method Dense.call of <tensorflow.python.layers.core.Dense object at 0x000001B01DCB3888>>: AssertionError: Bad argument number for Name: 3, expecting 4\n",
      "WARNING: Entity <bound method Dense.call of <tensorflow.python.layers.core.Dense object at 0x000001B01DCB3888>> could not be transformed and will be executed as-is. Please report this to the AutgoGraph team. When filing the bug, set the verbosity to 10 (on Linux, `export AUTOGRAPH_VERBOSITY=10`) and attach the full output. Cause: converting <bound method Dense.call of <tensorflow.python.layers.core.Dense object at 0x000001B01DCB3888>>: AssertionError: Bad argument number for Name: 3, expecting 4\n",
      "WARNING:tensorflow:Entity <bound method Dense.call of <tensorflow.python.layers.core.Dense object at 0x000001B01DCB3888>> could not be transformed and will be executed as-is. Please report this to the AutgoGraph team. When filing the bug, set the verbosity to 10 (on Linux, `export AUTOGRAPH_VERBOSITY=10`) and attach the full output. Cause: converting <bound method Dense.call of <tensorflow.python.layers.core.Dense object at 0x000001B01DCB3888>>: AssertionError: Bad argument number for Name: 3, expecting 4\n",
      "WARNING: Entity <bound method Dense.call of <tensorflow.python.layers.core.Dense object at 0x000001B01DCB3888>> could not be transformed and will be executed as-is. Please report this to the AutgoGraph team. When filing the bug, set the verbosity to 10 (on Linux, `export AUTOGRAPH_VERBOSITY=10`) and attach the full output. Cause: converting <bound method Dense.call of <tensorflow.python.layers.core.Dense object at 0x000001B01DCB3888>>: AssertionError: Bad argument number for Name: 3, expecting 4\n"
     ]
    }
   ],
   "source": [
    "reset_graph()\n",
    "\n",
    "X = tf.placeholder(tf.float32, shape=(None, n_inputs), name=\"X\")\n",
    "y = tf.placeholder(tf.int32, shape=(None), name=\"y\")\n",
    "\n",
    "with tf.name_scope(\"dnn\"):\n",
    "    hidden1 = tf.layers.dense(X, n_hidden1, name=\"hidden1\",\n",
    "                              activation=tf.nn.relu)\n",
    "    hidden2 = tf.layers.dense(hidden1, n_hidden2, name=\"hidden2\",\n",
    "                              activation=tf.nn.relu)\n",
    "    logits = tf.layers.dense(hidden2, n_outputs, name=\"outputs\")\n",
    "    y_proba = tf.nn.softmax(logits)\n",
    "\n",
    "with tf.name_scope(\"loss\"):\n",
    "    xentropy = tf.nn.sparse_softmax_cross_entropy_with_logits(labels=y, logits=logits)\n",
    "    loss = tf.reduce_mean(xentropy, name=\"loss\")    \n",
    "\n",
    "learning_rate = 0.01\n",
    "\n",
    "with tf.name_scope(\"train\"):\n",
    "    optimizer = tf.train.GradientDescentOptimizer(learning_rate)\n",
    "    training_op = optimizer.minimize(loss)\n",
    "    \n",
    "with tf.name_scope(\"eval\"):\n",
    "    correct = tf.nn.in_top_k(logits, y, 1)\n",
    "    accuracy = tf.reduce_mean(tf.cast(correct, tf.float32))"
   ]
  },
  {
   "cell_type": "code",
   "execution_count": 7,
   "metadata": {},
   "outputs": [],
   "source": [
    "init = tf.global_variables_initializer()\n",
    "saver = tf.train.Saver()"
   ]
  },
  {
   "cell_type": "code",
   "execution_count": 8,
   "metadata": {},
   "outputs": [
    {
     "name": "stdout",
     "output_type": "stream",
     "text": [
      "Epoch: 0 \tTrain accuracy: 90.00% \t\tTest accuracy: 90.280%\n",
      "Epoch: 1 \tTrain accuracy: 92.00% \t\tTest accuracy: 92.520%\n",
      "Epoch: 2 \tTrain accuracy: 94.00% \t\tTest accuracy: 93.720%\n",
      "Epoch: 3 \tTrain accuracy: 90.00% \t\tTest accuracy: 94.200%\n",
      "Epoch: 4 \tTrain accuracy: 94.00% \t\tTest accuracy: 94.720%\n",
      "Epoch: 5 \tTrain accuracy: 94.00% \t\tTest accuracy: 95.120%\n",
      "Epoch: 6 \tTrain accuracy: 100.00% \t\tTest accuracy: 95.480%\n",
      "Epoch: 7 \tTrain accuracy: 94.00% \t\tTest accuracy: 96.120%\n",
      "Epoch: 8 \tTrain accuracy: 96.00% \t\tTest accuracy: 96.200%\n",
      "Epoch: 9 \tTrain accuracy: 94.00% \t\tTest accuracy: 96.500%\n",
      "Epoch: 10 \tTrain accuracy: 92.00% \t\tTest accuracy: 96.540%\n",
      "Epoch: 11 \tTrain accuracy: 98.00% \t\tTest accuracy: 96.720%\n",
      "Epoch: 12 \tTrain accuracy: 98.00% \t\tTest accuracy: 96.820%\n",
      "Epoch: 13 \tTrain accuracy: 98.00% \t\tTest accuracy: 97.040%\n",
      "Epoch: 14 \tTrain accuracy: 100.00% \t\tTest accuracy: 96.960%\n",
      "Epoch: 15 \tTrain accuracy: 94.00% \t\tTest accuracy: 97.160%\n",
      "Epoch: 16 \tTrain accuracy: 98.00% \t\tTest accuracy: 97.260%\n",
      "Epoch: 17 \tTrain accuracy: 100.00% \t\tTest accuracy: 97.260%\n",
      "Epoch: 18 \tTrain accuracy: 98.00% \t\tTest accuracy: 97.480%\n",
      "Epoch: 19 \tTrain accuracy: 98.00% \t\tTest accuracy: 97.560%\n",
      "Epoch: 20 \tTrain accuracy: 100.00% \t\tTest accuracy: 97.500%\n",
      "Epoch: 21 \tTrain accuracy: 100.00% \t\tTest accuracy: 97.320%\n",
      "Epoch: 22 \tTrain accuracy: 96.00% \t\tTest accuracy: 97.500%\n",
      "Epoch: 23 \tTrain accuracy: 98.00% \t\tTest accuracy: 97.640%\n",
      "Epoch: 24 \tTrain accuracy: 98.00% \t\tTest accuracy: 97.600%\n",
      "Epoch: 25 \tTrain accuracy: 100.00% \t\tTest accuracy: 97.620%\n",
      "Epoch: 26 \tTrain accuracy: 92.00% \t\tTest accuracy: 97.660%\n",
      "Epoch: 27 \tTrain accuracy: 100.00% \t\tTest accuracy: 97.740%\n",
      "Epoch: 28 \tTrain accuracy: 94.00% \t\tTest accuracy: 97.800%\n",
      "Epoch: 29 \tTrain accuracy: 100.00% \t\tTest accuracy: 97.740%\n",
      "Epoch: 30 \tTrain accuracy: 100.00% \t\tTest accuracy: 97.740%\n",
      "Epoch: 31 \tTrain accuracy: 100.00% \t\tTest accuracy: 97.820%\n",
      "Epoch: 32 \tTrain accuracy: 96.00% \t\tTest accuracy: 97.800%\n",
      "Epoch: 33 \tTrain accuracy: 98.00% \t\tTest accuracy: 97.840%\n",
      "Epoch: 34 \tTrain accuracy: 98.00% \t\tTest accuracy: 97.820%\n",
      "Epoch: 35 \tTrain accuracy: 100.00% \t\tTest accuracy: 97.800%\n",
      "Epoch: 36 \tTrain accuracy: 100.00% \t\tTest accuracy: 97.900%\n",
      "Epoch: 37 \tTrain accuracy: 100.00% \t\tTest accuracy: 97.840%\n",
      "Epoch: 38 \tTrain accuracy: 98.00% \t\tTest accuracy: 97.960%\n",
      "Epoch: 39 \tTrain accuracy: 100.00% \t\tTest accuracy: 97.860%\n",
      "Epoch: 40 \tTrain accuracy: 100.00% \t\tTest accuracy: 97.820%\n",
      "Epoch: 41 \tTrain accuracy: 100.00% \t\tTest accuracy: 98.040%\n",
      "Epoch: 42 \tTrain accuracy: 100.00% \t\tTest accuracy: 97.960%\n",
      "Epoch: 43 \tTrain accuracy: 100.00% \t\tTest accuracy: 98.000%\n",
      "Epoch: 44 \tTrain accuracy: 100.00% \t\tTest accuracy: 97.980%\n",
      "Epoch: 45 \tTrain accuracy: 100.00% \t\tTest accuracy: 98.080%\n",
      "Epoch: 46 \tTrain accuracy: 100.00% \t\tTest accuracy: 98.100%\n",
      "Epoch: 47 \tTrain accuracy: 100.00% \t\tTest accuracy: 98.000%\n",
      "Epoch: 48 \tTrain accuracy: 100.00% \t\tTest accuracy: 97.920%\n",
      "Epoch: 49 \tTrain accuracy: 100.00% \t\tTest accuracy: 97.960%\n"
     ]
    }
   ],
   "source": [
    "n_epochs = 50\n",
    "batch_size = 50\n",
    "\n",
    "with tf.Session() as sess:\n",
    "    init.run()\n",
    "    for epoch in range(n_epochs):\n",
    "        for X_batch, y_batch in shuffle_batch(X_train, y_train, batch_size):\n",
    "            sess.run(training_op, feed_dict={X: X_batch, y: y_batch})\n",
    "        acc_train = accuracy.eval(feed_dict={X: X_batch, y: y_batch})\n",
    "        acc_test = accuracy.eval(feed_dict={X: X_valid, y: y_valid})\n",
    "        print(\"Epoch:\", epoch, \"\\tTrain accuracy: {:.2f}%\". format(acc_train * 100), \n",
    "              \"\\t\\tTest accuracy: {:.3f}%\". format(acc_test * 100))\n",
    "    \n",
    "    save_path = saver.save(sess, \"./my_model_finalv1.ckpt\")"
   ]
  },
  {
   "cell_type": "code",
   "execution_count": 9,
   "metadata": {},
   "outputs": [
    {
     "name": "stdout",
     "output_type": "stream",
     "text": [
      "WARNING:tensorflow:From C:\\Users\\mferrero\\Anaconda3\\lib\\site-packages\\tensorflow\\python\\training\\saver.py:1276: checkpoint_exists (from tensorflow.python.training.checkpoint_management) is deprecated and will be removed in a future version.\n",
      "Instructions for updating:\n",
      "Use standard file APIs to check for files with this prefix.\n",
      "INFO:tensorflow:Restoring parameters from ./my_model_finalv1.ckpt\n"
     ]
    }
   ],
   "source": [
    "with tf.Session() as sess:\n",
    "    saver.restore(sess, \"./my_model_finalv1.ckpt\") # or better, use save_path\n",
    "    X_new_scaled = X_test[:20]\n",
    "    Z = logits.eval(feed_dict={X: X_new_scaled})\n",
    "    y_pred = np.argmax(Z, axis=1)"
   ]
  },
  {
   "cell_type": "code",
   "execution_count": 10,
   "metadata": {},
   "outputs": [
    {
     "name": "stdout",
     "output_type": "stream",
     "text": [
      "Predicted classes: [7 2 1 0 4 1 4 9 5 9 0 6 9 0 1 5 9 7 3 4]\n",
      "Actual classes:    [7 2 1 0 4 1 4 9 5 9 0 6 9 0 1 5 9 7 3 4]\n"
     ]
    }
   ],
   "source": [
    "print(\"Predicted classes:\", y_pred)\n",
    "print(\"Actual classes:   \", y_test[:20])"
   ]
  },
  {
   "cell_type": "code",
   "execution_count": 11,
   "metadata": {},
   "outputs": [
    {
     "data": {
      "text/plain": [
       "'G.gv.pdf'"
      ]
     },
     "execution_count": 11,
     "metadata": {},
     "output_type": "execute_result"
    }
   ],
   "source": [
    "g = tfg.board(tf.get_default_graph())\n",
    "g.view()"
   ]
  },
  {
   "cell_type": "code",
   "execution_count": 12,
   "metadata": {},
   "outputs": [],
   "source": [
    "# Load the TensorBoard notebook extension\n",
    "%load_ext tensorboard\n",
    "#%reload_ext tensorboard"
   ]
  },
  {
   "cell_type": "code",
   "execution_count": 13,
   "metadata": {
    "scrolled": true
   },
   "outputs": [
    {
     "data": {
      "text/plain": [
       "Reusing TensorBoard on port 6006 (pid 3080), started 7:55:32 ago. (Use '!kill 3080' to kill it.)"
      ]
     },
     "metadata": {},
     "output_type": "display_data"
    },
    {
     "data": {
      "text/html": [
       "\n",
       "        <iframe\n",
       "            width=\"100%\"\n",
       "            height=\"800\"\n",
       "            src=\"http://localhost:6006\"\n",
       "            frameborder=\"0\"\n",
       "            allowfullscreen\n",
       "        ></iframe>\n",
       "        "
      ],
      "text/plain": [
       "<IPython.lib.display.IFrame at 0x1b01dd7c648>"
      ]
     },
     "metadata": {},
     "output_type": "display_data"
    }
   ],
   "source": [
    "#%tensorboard --logdir ./\n",
    "%tensorboard --logdir tf_logs\n",
    "#!kill 14672"
   ]
  },
  {
   "cell_type": "markdown",
   "metadata": {},
   "source": [
    "## Resposta:\n",
    "Analisando o exemplo MLPWithTensorFlowLowLevelAPI.ipynb utilizando objetos da função neuron_layer() e utilizando objetos da classe dense() e não foi observada nenhuma diferença significativa de performance."
   ]
  },
  {
   "cell_type": "code",
   "execution_count": null,
   "metadata": {},
   "outputs": [],
   "source": []
  }
 ],
 "metadata": {
  "kernelspec": {
   "display_name": "Python 3",
   "language": "python",
   "name": "python3"
  },
  "language_info": {
   "codemirror_mode": {
    "name": "ipython",
    "version": 3
   },
   "file_extension": ".py",
   "mimetype": "text/x-python",
   "name": "python",
   "nbconvert_exporter": "python",
   "pygments_lexer": "ipython3",
   "version": "3.7.6"
  }
 },
 "nbformat": 4,
 "nbformat_minor": 2
}
