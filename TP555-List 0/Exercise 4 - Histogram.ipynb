{
 "cells": [
  {
   "cell_type": "code",
   "execution_count": 13,
   "metadata": {},
   "outputs": [
    {
     "data": {
      "image/png": "[encoded data removed]",
      "text/plain": [
       "<Figure size 432x288 with 1 Axes>"
      ]
     },
     "metadata": {
      "needs_background": "light"
     },
     "output_type": "display_data"
    }
   ],
   "source": [
    "import matplotlib.pyplot as plt\n",
    "import numpy as np\n",
    "\n",
    "%matplotlib inline\n",
    "\n",
    "#Number of Elements\n",
    "M = 10000\n",
    "\n",
    "x = np.random.rand(M) # Uniform Distribution\n",
    "y = np.random.rand(M) # Uniform Distribution\n",
    "\n",
    "z = x + y\n",
    "\n",
    "# Plot histogram of the data\n",
    "fig1, axis = plt.subplots()\n",
    "\n",
    "plt.hist(z , bins=100, density=True , color=\"blue\")\n",
    "axis.set(xlabel='x and y', ylabel='z' , title='Equation: z = x + y')\n",
    "\n",
    "plt.grid(True)\n",
    "plt.show()\n",
    "\n",
    "fig1.savefig(\"Exercise 4\")\n",
    "\n"
   ]
  },
  {
   "cell_type": "code",
   "execution_count": null,
   "metadata": {},
   "outputs": [],
   "source": []
  },
  {
   "cell_type": "code",
   "execution_count": null,
   "metadata": {},
   "outputs": [],
   "source": []
  }
 ],
 "metadata": {
  "kernelspec": {
   "display_name": "Python 3",
   "language": "python",
   "name": "python3"
  },
  "language_info": {
   "codemirror_mode": {
    "name": "ipython",
    "version": 3
   },
   "file_extension": ".py",
   "mimetype": "text/x-python",
   "name": "python",
   "nbconvert_exporter": "python",
   "pygments_lexer": "ipython3",
   "version": "3.7.6"
  }
 },
 "nbformat": 4,
 "nbformat_minor": 4
}
